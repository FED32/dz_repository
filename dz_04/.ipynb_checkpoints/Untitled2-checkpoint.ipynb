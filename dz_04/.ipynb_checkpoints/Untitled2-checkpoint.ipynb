{
 "cells": [
  {
   "cell_type": "code",
   "execution_count": 21,
   "metadata": {},
   "outputs": [],
   "source": [
    "queries = [\n",
    "    'смотреть сериалы онлайн',\n",
    "    'новости спорта',\n",
    "    'афиша кино',\n",
    "    'курс доллара',\n",
    "    'сериалы этим летом',\n",
    "    'курс по питону',\n",
    "    'сериалы про спорт',\n",
    "]\n"
   ]
  },
  {
   "cell_type": "code",
   "execution_count": 22,
   "metadata": {},
   "outputs": [
    {
     "name": "stdout",
     "output_type": "stream",
     "text": [
      "[3, 2, 2, 2, 3, 3, 3]\n",
      "{0: 0, 1: 0, 2: 1, 3: 0, 4: 0, 5: 0, 6: 0}\n"
     ]
    }
   ],
   "source": [
    "word_queries = []\n",
    "\n",
    "dict_queries = {}\n",
    "\n",
    "i=0\n",
    "\n",
    "\n",
    "for string in queries:\n",
    "#     print(string)\n",
    "#     print(len(string.split()))\n",
    "    word_queries.append(len(string.split()))\n",
    "    \n",
    "#     for word in string:\n",
    "#         print(word)\n",
    "print(word_queries) \n",
    "\n",
    "for num in word_queries:\n",
    "    dict_queries[i]=0\n",
    "#     print(num)\n",
    "    if num == i:\n",
    "        dict_queries[i]+=1\n",
    "    i+=1\n",
    "\n",
    "print(dict_queries)\n",
    "        \n",
    "#         print('Поисковых запросов из одного слова',  )\n",
    "# длина/ len(word_queries)"
   ]
  },
  {
   "cell_type": "code",
   "execution_count": null,
   "metadata": {},
   "outputs": [],
   "source": []
  }
 ],
 "metadata": {
  "kernelspec": {
   "display_name": "Python 3",
   "language": "python",
   "name": "python3"
  },
  "language_info": {
   "codemirror_mode": {
    "name": "ipython",
    "version": 3
   },
   "file_extension": ".py",
   "mimetype": "text/x-python",
   "name": "python",
   "nbconvert_exporter": "python",
   "pygments_lexer": "ipython3",
   "version": "3.7.6"
  }
 },
 "nbformat": 4,
 "nbformat_minor": 4
}
