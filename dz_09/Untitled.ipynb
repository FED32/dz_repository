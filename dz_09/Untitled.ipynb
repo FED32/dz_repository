{
 "cells": [
  {
   "cell_type": "markdown",
   "metadata": {},
   "source": [
    "Задание 1.\n",
    "Напишите функцию, которая принимает на вход строку и проверяет является ли она валидным транспортным номером. Если да, то функция должна возвращать отдельно номер и регион.\n",
    "​"
   ]
  },
  {
   "cell_type": "code",
   "execution_count": 122,
   "metadata": {},
   "outputs": [],
   "source": [
    "# string_with_num_1 = 'C275HA790 ededd eeepps 77dde8852'\n",
    "# string_with_num_2 = '777a77aa AO36578'\n",
    "# string_with_num_3 = ' www777aa856 AH733147 ee88ee777 4566aaa7'\n",
    "# string_with_num_4 = 'rr888ee9 pp5ee88 3733MM55'"
   ]
  },
  {
   "cell_type": "code",
   "execution_count": 1,
   "metadata": {},
   "outputs": [],
   "source": [
    "import re"
   ]
  },
  {
   "cell_type": "code",
   "execution_count": 63,
   "metadata": {},
   "outputs": [],
   "source": [
    "string_with_num = 'C275HA790. ededd eeepps/ ,,,,,, 77dde8852 777a77aa AO36578, www777aa856 AH733147-ee88ee777 4566aaa7 rr888ee9 pp5ee88 3733MM55'"
   ]
  },
  {
   "cell_type": "code",
   "execution_count": 64,
   "metadata": {},
   "outputs": [],
   "source": [
    "def num_find(string_with_num):\n",
    "    pattern_1 = r'([A,B,E,K,M,H,O,P,C,T,Y,X]{1}\\d{3}[A,B,E,K,M,H,O,P,C,T,Y,X]{2})(\\d{2,3})' #тип1, тип1а по ГОСТ Р 50577-2018\n",
    "    pattern_2 = r'([A,B,E,K,M,H,O,P,C,T,Y,X]{2}\\d{3,4})(\\d{2,3})' #тип1б, тип2 по ГОСТ Р 50577-2018\n",
    "    pattern_3 = r'(\\d{4}[A,B,E,K,M,H,O,P,C,T,Y,X]{2})(\\d{2,3})' #тип3, тип4 по ГОСТ Р 50577-2018\n",
    "    patterns = [pattern_1, pattern_2, pattern_3]\n",
    "    result = []\n",
    "    for num in string_with_num.split(' '):\n",
    "        for pattern in patterns:\n",
    "            if len(re.findall(pattern, num)) != 0:\n",
    "                result.append(re.findall(pattern, num))           \n",
    "    return result"
   ]
  },
  {
   "cell_type": "code",
   "execution_count": 65,
   "metadata": {},
   "outputs": [
    {
     "data": {
      "text/plain": [
       "[[('C275HA', '790')],\n",
       " [('AO365', '78')],\n",
       " [('AH7331', '47')],\n",
       " [('3733MM', '55')]]"
      ]
     },
     "execution_count": 65,
     "metadata": {},
     "output_type": "execute_result"
    }
   ],
   "source": [
    "num_find(string_with_num)"
   ]
  },
  {
   "cell_type": "code",
   "execution_count": null,
   "metadata": {},
   "outputs": [],
   "source": []
  },
  {
   "cell_type": "markdown",
   "metadata": {},
   "source": [
    "Задание 2.\n",
    "Постарайтесь написать (в крайнем случае найти) самый полный шаблон для проверки e-mail адресов через регулярное выражение, которая проверяет e-mail адрес на валидность. Можно руководствоваться следующими минимальными требованиями:\n",
    "• адрес должен содержать специальный символ “@”, который отделяет имя пользователя почтовой системы от доменного имени;\n",
    "• адрес не должен содержать следующие символы: “пробел”, “,”, “:”, “;”, “!”, “#”, “%”, “*”, “(”, “)”, “=”, “+”, “{”, “}”, \" \" \", \" ’ \", \" / \", \" \\ \" и “|”;\n",
    "• адрес должен состоять только из латинских символов;\n",
    "• после символа “@” должна быть как минимум одна “.”;\n",
    "• после последней точки должно быть не менее 2-х и не более 4-х символов, причем наличие цифр не допускается;\n",
    "• между последней точкой и символом “@” должно быть не менее 2-х символов\n",
    "• слева от “@” должно быть не менее четырех символов"
   ]
  },
  {
   "cell_type": "code",
   "execution_count": 476,
   "metadata": {},
   "outputs": [],
   "source": [
    "# мой шаблон\n",
    "patt = r\"\"\"[^а-яёА-ЯЁ\\s\\'\",:;!?#%*()=+{}/\\|]+@[^а-яёА-ЯЁ\\s,:;!?#%*()=+{}/\\|]{2,}.[^а-яёА-ЯЁ\\d\\s'\",:;!?#*()=+{}/\\|]{2,4}\"\"\"\n",
    "# нагуглено:\n",
    "patt_2 = r'^(([^<>()\\[\\]\\\\.,;:\\s@\"]+(\\.[^<>()\\[\\]\\\\.,;:\\s@\"]+)*)|(\".+\"))@((\\[[0-9]{1,3}\\.[0-9]{1,3}\\.[0-9]{1,3}\\.[0-9]{1,3}])|(([a-zA-Z\\-0-9]+\\.)+[a-zA-Z]{2,}))$'\n",
    "patt_3 = r'^((([0-9A-Za-z]{1}[-0-9A-z\\.]{1,}[0-9A-Za-z]{1})|([0-9А-Яа-я]{1}[-0-9А-я\\.]{1,}[0-9А-Яа-я]{1}))@([-A-Za-z]{1,}\\.){1,2}[-A-Za-z]{2,})$'"
   ]
  },
  {
   "cell_type": "code",
   "execution_count": 480,
   "metadata": {},
   "outputs": [],
   "source": [
    "mail = ',:;!#%*/\\|)(=+}{serega.fed@mail.ru 54sde.eed@mail.ru , sr=rfr,s#awe_5sde.ee-788d@gmail.com, sr!rfяяяйцуbe_12tgb.eed@mwwqqail.ru4.:7a.w5s'"
   ]
  },
  {
   "cell_type": "code",
   "execution_count": 481,
   "metadata": {},
   "outputs": [
    {
     "data": {
      "text/plain": [
       "['serega.fed@mail.ru',\n",
       " '54sde.eed@mail.ru',\n",
       " 'awe_5sde.ee-788d@gmail.com',\n",
       " 'be_12tgb.eed@mwwqqail.ru']"
      ]
     },
     "execution_count": 481,
     "metadata": {},
     "output_type": "execute_result"
    }
   ],
   "source": [
    "re.findall(patt, mail)"
   ]
  },
  {
   "cell_type": "code",
   "execution_count": 479,
   "metadata": {},
   "outputs": [
    {
     "data": {
      "text/plain": [
       "[('serega.fed@mail.ru', 'serega.fed', 'serega.fed', '', 'mail.')]"
      ]
     },
     "execution_count": 479,
     "metadata": {},
     "output_type": "execute_result"
    }
   ],
   "source": [
    "mail_2 = 'serega.fed@mail.ru'\n",
    "re.findall(patt_3, mail_2)"
   ]
  },
  {
   "cell_type": "code",
   "execution_count": null,
   "metadata": {},
   "outputs": [],
   "source": []
  },
  {
   "cell_type": "markdown",
   "metadata": {},
   "source": [
    "**Задание 3. **\n",
    "Напишите функцию, которая будет удалять все последовательные повторы слов из заданной строки при помощи регулярных выражений."
   ]
  },
  {
   "cell_type": "code",
   "execution_count": 32,
   "metadata": {},
   "outputs": [],
   "source": [
    "string = 'Напишите функцию функцию функцию, которая будет удалять все последовательные повторы повторы повторы повторы слов из заданной строки при помощи регулярных выражений выражений выражений'"
   ]
  },
  {
   "cell_type": "code",
   "execution_count": 33,
   "metadata": {},
   "outputs": [],
   "source": [
    "def del_rep_word(string):\n",
    "    return re.sub(r'\\b([^\\W\\d_]+)(\\s+\\1)+\\b', r'\\1', string)"
   ]
  },
  {
   "cell_type": "code",
   "execution_count": 34,
   "metadata": {},
   "outputs": [
    {
     "data": {
      "text/plain": [
       "'Напишите функцию, которая будет удалять все последовательные повторы слов из заданной строки при помощи регулярных выражений'"
      ]
     },
     "execution_count": 34,
     "metadata": {},
     "output_type": "execute_result"
    }
   ],
   "source": [
    "del_rep_word(string)"
   ]
  },
  {
   "cell_type": "code",
   "execution_count": null,
   "metadata": {},
   "outputs": [],
   "source": []
  },
  {
   "cell_type": "markdown",
   "metadata": {},
   "source": [
    "Задание 4.\n",
    "Напишите функцию, которая будет проверять номер сотового телефона на валидность, если он валиден, то переводить его в формат:\n",
    "+7(xxx)-xxx-xx-xx\n",
    "​\n",
    "Постарайтесь предусмотреть как можно больше адекватных форматов изначального ввода номера. Примеры валидных форматов:\n",
    "​\n",
    "• +7 955 555-55-55;\n",
    "• 9555555555;\n",
    "• 8(955)555-55-55;\n",
    "• +7 955 555 55 55;\n",
    "• 7(955) 555-55-55;\n",
    "• +7 955+555+55+55."
   ]
  },
  {
   "cell_type": "code",
   "execution_count": 60,
   "metadata": {},
   "outputs": [],
   "source": [
    "phone_nums = '+7 955 555-55-51, 9555555552, 8(955)555-55-53, +7 955 555 55 54, 7(955) 555-55-55, +7 955+555+55+56'"
   ]
  },
  {
   "cell_type": "code",
   "execution_count": 61,
   "metadata": {},
   "outputs": [],
   "source": [
    "def convert_phone_nums(phone_nums):\n",
    "    valid_nums = []\n",
    "    converted_nums = []\n",
    "    for num in re.findall(r'[8|+7|7][\\s|(|\\s(](9\\d{2})[+|\\s|-|)|)\\s](\\d{3})[+|\\s|-](\\d{2})[+|\\s|-](\\d{2})', phone_nums):\n",
    "        valid_nums.append(num)\n",
    "    for num in re.findall(r'(9\\d{2})(\\d{3})(\\d{2})(\\d{2})', phone_nums):\n",
    "        valid_nums.append(num)\n",
    "    for num in re.findall(r'[8|7][(](9\\d{2})[)][\\s](\\d{3})-(\\d{2})-(\\d{2})', phone_nums):\n",
    "        valid_nums.append(num)\n",
    "#     print(valid_nums)\n",
    "    for digit in valid_nums:\n",
    "#         print(digit)\n",
    "        converted_nums.append(f\"+7({digit[0]}){digit[1]}-{digit[2]}-{digit[3]}\")       \n",
    "    return converted_nums"
   ]
  },
  {
   "cell_type": "code",
   "execution_count": 62,
   "metadata": {},
   "outputs": [
    {
     "data": {
      "text/plain": [
       "['+7(955)555-55-51',\n",
       " '+7(955)555-55-53',\n",
       " '+7(955)555-55-54',\n",
       " '+7(955)555-55-56',\n",
       " '+7(955)555-55-52',\n",
       " '+7(955)555-55-55']"
      ]
     },
     "execution_count": 62,
     "metadata": {},
     "output_type": "execute_result"
    }
   ],
   "source": [
    "convert_phone_nums(phone_nums)"
   ]
  },
  {
   "cell_type": "code",
   "execution_count": null,
   "metadata": {},
   "outputs": [],
   "source": []
  },
  {
   "cell_type": "code",
   "execution_count": null,
   "metadata": {},
   "outputs": [],
   "source": []
  },
  {
   "cell_type": "code",
   "execution_count": null,
   "metadata": {},
   "outputs": [],
   "source": []
  }
 ],
 "metadata": {
  "kernelspec": {
   "display_name": "Python 3",
   "language": "python",
   "name": "python3"
  },
  "language_info": {
   "codemirror_mode": {
    "name": "ipython",
    "version": 3
   },
   "file_extension": ".py",
   "mimetype": "text/x-python",
   "name": "python",
   "nbconvert_exporter": "python",
   "pygments_lexer": "ipython3",
   "version": "3.7.6"
  }
 },
 "nbformat": 4,
 "nbformat_minor": 4
}
