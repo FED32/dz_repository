{
 "cells": [
  {
   "cell_type": "code",
   "execution_count": 123,
   "metadata": {},
   "outputs": [],
   "source": [
    "directories = {\n",
    "    '1': ['2207 876234', '11-2'],\n",
    "    '2': ['10006'],\n",
    "    '3': []\n",
    "}    "
   ]
  },
  {
   "cell_type": "code",
   "execution_count": 124,
   "metadata": {},
   "outputs": [],
   "source": [
    "# удаляет документ из перечня полок\n",
    "def del_from_dir(num_doc):\n",
    "    find = False\n",
    "    for val in directories.values():\n",
    "#         print(val)\n",
    "        if num_doc in val:\n",
    "            find = True\n",
    "#             print(val)\n",
    "            for pos in val:\n",
    "                if pos == num_doc:\n",
    "                    val.remove(pos)\n",
    "                    print(f\"Документ {num_doc} удален из перечня полок\" )\n",
    "    if find != True:\n",
    "        print('Документ отсутствует')\n",
    "        \n",
    "    return\n",
    "# \n"
   ]
  },
  {
   "cell_type": "code",
   "execution_count": 125,
   "metadata": {},
   "outputs": [
    {
     "name": "stdout",
     "output_type": "stream",
     "text": [
      "Введите номер докумета 11-2\n",
      "Документ 11-2 удален из перечня полок\n"
     ]
    }
   ],
   "source": [
    "num_doc = input('Введите номер докумета ')\n",
    "del_from_dir(num_doc)"
   ]
  },
  {
   "cell_type": "code",
   "execution_count": 126,
   "metadata": {},
   "outputs": [
    {
     "name": "stdout",
     "output_type": "stream",
     "text": [
      "{'1': ['2207 876234'], '2': ['10006'], '3': []}\n"
     ]
    }
   ],
   "source": [
    "print(directories)"
   ]
  },
  {
   "cell_type": "code",
   "execution_count": 127,
   "metadata": {},
   "outputs": [
    {
     "name": "stdout",
     "output_type": "stream",
     "text": [
      "dict_values([['2207 876234'], ['10006'], []])\n"
     ]
    }
   ],
   "source": [
    "print(directories.values())"
   ]
  },
  {
   "cell_type": "code",
   "execution_count": null,
   "metadata": {},
   "outputs": [],
   "source": []
  },
  {
   "cell_type": "code",
   "execution_count": null,
   "metadata": {},
   "outputs": [],
   "source": []
  }
 ],
 "metadata": {
  "kernelspec": {
   "display_name": "Python 3",
   "language": "python",
   "name": "python3"
  },
  "language_info": {
   "codemirror_mode": {
    "name": "ipython",
    "version": 3
   },
   "file_extension": ".py",
   "mimetype": "text/x-python",
   "name": "python",
   "nbconvert_exporter": "python",
   "pygments_lexer": "ipython3",
   "version": "3.7.6"
  }
 },
 "nbformat": 4,
 "nbformat_minor": 4
}
