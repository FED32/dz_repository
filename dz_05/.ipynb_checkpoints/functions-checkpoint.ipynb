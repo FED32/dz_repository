{
 "cells": [
  {
   "cell_type": "markdown",
   "metadata": {},
   "source": [
    "Вы работаете секретарем и вам постоянно приходят различные документы. Вы должны быть очень внимательны, чтобы не потерять ни один документ. Каталог документов хранится в следующем виде:"
   ]
  },
  {
   "cell_type": "code",
   "execution_count": 2,
   "metadata": {},
   "outputs": [],
   "source": [
    "documents = [\n",
    "    {'type': 'passport', 'number': '2207 876234', 'name': 'Василий Гупкин'},\n",
    "    {'type': 'invoice', 'number': '11-2', 'name': 'Геннадий Покемонов'},\n",
    "    {'type': 'insurance', 'number': '10006', 'name': 'Аристарх Павлов'}\n",
    "]"
   ]
  },
  {
   "cell_type": "markdown",
   "metadata": {},
   "source": [
    "Перечень полок, на которых находятся документы хранится в следующем виде:"
   ]
  },
  {
   "cell_type": "code",
   "execution_count": 3,
   "metadata": {},
   "outputs": [],
   "source": [
    "directories = {\n",
    "    '1': ['2207 876234', '11-2'],\n",
    "    '2': ['10006'],\n",
    "    '3': []\n",
    "}"
   ]
  },
  {
   "cell_type": "markdown",
   "metadata": {},
   "source": [
    "Необходимо реализовать пользовательские команды (внимание! это не название функций, которые должны быть выразительными, а команды, которые вводит пользователь, чтобы получить необходимый результат):\n",
    "  \n",
    "- p – people – команда, которая спросит номер документа и выведет имя человека, которому он принадлежит;  \n",
    "- s – shelf – команда, которая спросит номер документа и выведет номер полки, на которой он находится  \n",
    "*Правильно обработайте ситуации, когда пользователь будет вводить несуществующий документ*.\n",
    "- l – list – команда, которая выведет список всех документов в формате   \n",
    "**passport \"2207 876234\" \"Василий Гупкин\"**  \n",
    "- as – add shelf – команда, которая спросит номер новой полки и добавит ее в перечень. *Предусмотрите случай, когда пользователь добавляет полку, которая уже существует*.\n",
    "- d – delete – команда, которая спросит номер документа и удалит его из каталога и из перечня полок. *Предусмотрите сценарий, когда пользователь вводит несуществующий документ*;  \n",
    "- m – move – команда, которая спросит номер документа и целевую полку и переместит его с текущей полки на целевую. *Корректно обработайте кейсы, когда пользователь пытается переместить несуществующий документ или переместить документ на несуществующую полку*;  \n",
    "- a – add – команда, которая добавит новый документ в каталог и в перечень полок, спросив его номер, тип, имя владельца и номер полки, на котором он будет храниться. *Корректно обработайте ситуацию, когда пользователь будет пытаться добавить документ на несуществующую полку*."
   ]
  },
  {
   "cell_type": "code",
   "execution_count": 4,
   "metadata": {},
   "outputs": [],
   "source": [
    "# поиск имени человека по номеру документа\n",
    "def name(num_doc):    \n",
    "    find = False # флаг успешного результата поиска\n",
    "    for pos in documents:\n",
    "#         print(pos['number'])\n",
    "        if (pos['number']) == num_doc:\n",
    "            print(pos['name'])\n",
    "            find = True\n",
    "    if find != True:\n",
    "        print('Документ отсутствует')\n",
    "    return"
   ]
  },
  {
   "cell_type": "code",
   "execution_count": 5,
   "metadata": {},
   "outputs": [],
   "source": [
    "# num_doc = input('Введите номер докумета ')\n",
    "# name()"
   ]
  },
  {
   "cell_type": "code",
   "execution_count": 6,
   "metadata": {},
   "outputs": [],
   "source": [
    "# поиск номера полки на которой лежит документ по имени документа\n",
    "def shelf(num_doc):    \n",
    "    find = False # флаг успешного результата поиска\n",
    "    for key, value in directories.items():\n",
    "#         print(key, value)\n",
    "        if num_doc in value:\n",
    "            print('Документ находится на полке',key)\n",
    "            find = True\n",
    "    if find != True:\n",
    "        print('Документ отсутствует')\n",
    "    return find   "
   ]
  },
  {
   "cell_type": "code",
   "execution_count": 7,
   "metadata": {},
   "outputs": [],
   "source": [
    "# num_doc = input('Введите номер докумета ')\n",
    "# shelf()"
   ]
  },
  {
   "cell_type": "code",
   "execution_count": 8,
   "metadata": {},
   "outputs": [],
   "source": [
    "# вывод списка документов из каталога\n",
    "def registr():\n",
    "    for pos in documents:\n",
    "#         print(list(pos.values()))\n",
    "#         print(pos['type'],pos['number'],pos['name'])\n",
    "         print(f\"\"\"{pos['type']} \"{pos['number']}\" \"{pos['name']}\" \"\"\")\n",
    "#         print(pos)\n",
    "    return"
   ]
  },
  {
   "cell_type": "code",
   "execution_count": 9,
   "metadata": {},
   "outputs": [],
   "source": [
    "# registr()"
   ]
  },
  {
   "cell_type": "code",
   "execution_count": 10,
   "metadata": {},
   "outputs": [],
   "source": [
    "# добавление полки в перечень полок\n",
    "def add_shelf(num_shelf):    \n",
    "    if num_shelf not in directories:\n",
    "        directories[num_shelf] = []\n",
    "        print(f\"Полка {num_shelf} добавлена\")\n",
    "    else:\n",
    "        print('Полка с таким именем уже существует')           \n",
    "    return"
   ]
  },
  {
   "cell_type": "code",
   "execution_count": 11,
   "metadata": {},
   "outputs": [],
   "source": [
    "# num_shelf = input('Введите номер новой полки ')\n",
    "# add_shelf()"
   ]
  },
  {
   "cell_type": "code",
   "execution_count": 12,
   "metadata": {},
   "outputs": [],
   "source": [
    "# удаляет документ из каталога\n",
    "def del_from_docs(num_doc):  \n",
    "    find = False\n",
    "    i=0\n",
    "    for pos in documents:\n",
    "#         print(pos)\n",
    "        if num_doc in pos.values():\n",
    "#             print(pos.values())\n",
    "            del(documents[i])\n",
    "            print(f\"Документ {num_doc} удален из каталога\" )\n",
    "            find = True\n",
    "        i+=1\n",
    "    if find != True:\n",
    "        print('Документ не существует')\n",
    "    return()"
   ]
  },
  {
   "cell_type": "code",
   "execution_count": 13,
   "metadata": {},
   "outputs": [],
   "source": [
    "# num_doc = input('Введите номер докумета ')\n",
    "# del_from_docs(num_doc)\n",
    "# print(documents)"
   ]
  },
  {
   "cell_type": "code",
   "execution_count": 14,
   "metadata": {},
   "outputs": [],
   "source": [
    "# удаляет документ из перечня полок\n",
    "def del_from_dir(num_doc):\n",
    "    find = False\n",
    "    for val in directories.values():\n",
    "#         print(val)\n",
    "        if num_doc in val:\n",
    "            find = True\n",
    "#             print(val)\n",
    "            for pos in val:\n",
    "                if pos == num_doc:\n",
    "                    val.remove(pos)\n",
    "                    print(f\"Документ {num_doc} удален из перечня полок\" )\n",
    "    if find != True:\n",
    "        print('Документ отсутствует')        \n",
    "    return"
   ]
  },
  {
   "cell_type": "code",
   "execution_count": null,
   "metadata": {},
   "outputs": [],
   "source": [
    "# num_doc = input('Введите номер докумета ')\n",
    "# del_from_dir(num_doc)"
   ]
  },
  {
   "cell_type": "code",
   "execution_count": null,
   "metadata": {},
   "outputs": [],
   "source": [
    "# перемещает указанный документ на указанную полку\n",
    "# ОШИБКА, ДОРАБОТАТЬ!!!!!!!!!! нет проверки на существующий документ, затирает полку при перемещениии\n",
    "def move(num_doc, num_shelf):\n",
    "    if num_shelf in directories.keys():\n",
    "        shelf(num_doc)\n",
    "        directories[num_shelf] = num_doc\n",
    "        del_from_dir(num_doc)\n",
    "        print(f'Документ {num_doc} помещен на полку {num_shelf}')\n",
    "    else:\n",
    "        print('Такой полки не существует')\n",
    "    return   "
   ]
  },
  {
   "cell_type": "code",
   "execution_count": null,
   "metadata": {},
   "outputs": [],
   "source": [
    "num_doc = input('Введите номер докумета ')\n",
    "num_shelf = input('Введите номер целевой полки ')\n",
    "move(num_doc, num_shelf)"
   ]
  },
  {
   "cell_type": "code",
   "execution_count": null,
   "metadata": {},
   "outputs": [],
   "source": []
  },
  {
   "cell_type": "code",
   "execution_count": 15,
   "metadata": {},
   "outputs": [],
   "source": [
    "def main():\n",
    "    command = str(input('Введите команду '))\n",
    "    if command == 'p':\n",
    "        name()\n",
    "    elif command == 's':\n",
    "        shelf()\n",
    "    elif command == 'l':\n",
    "        registr()\n",
    "    elif command == 'as':\n",
    "        add_shelf()\n",
    "    elif command == 'd':\n",
    "        num_doc = input('Введите номер докумета ')\n",
    "        del_from_docs(num_doc)\n",
    "        del_from_dir(num_doc)\n",
    "    elif command == 'm':\n",
    "        move()\n",
    "    elif command == 'a':\n",
    "        add()\n",
    "    return"
   ]
  },
  {
   "cell_type": "code",
   "execution_count": 16,
   "metadata": {},
   "outputs": [
    {
     "name": "stdout",
     "output_type": "stream",
     "text": [
      "Введите команду d\n",
      "Введите номер докумета 11-2\n",
      "Документ не существует\n"
     ]
    },
    {
     "ename": "NameError",
     "evalue": "name 'del_from_dir' is not defined",
     "output_type": "error",
     "traceback": [
      "\u001b[1;31m---------------------------------------------------------------------------\u001b[0m",
      "\u001b[1;31mNameError\u001b[0m                                 Traceback (most recent call last)",
      "\u001b[1;32m<ipython-input-16-263240bbee7e>\u001b[0m in \u001b[0;36m<module>\u001b[1;34m\u001b[0m\n\u001b[1;32m----> 1\u001b[1;33m \u001b[0mmain\u001b[0m\u001b[1;33m(\u001b[0m\u001b[1;33m)\u001b[0m\u001b[1;33m\u001b[0m\u001b[1;33m\u001b[0m\u001b[0m\n\u001b[0m",
      "\u001b[1;32m<ipython-input-15-20da1e076856>\u001b[0m in \u001b[0;36mmain\u001b[1;34m()\u001b[0m\n\u001b[0;32m     12\u001b[0m         \u001b[0mnum_doc\u001b[0m \u001b[1;33m=\u001b[0m \u001b[0minput\u001b[0m\u001b[1;33m(\u001b[0m\u001b[1;34m'Введите номер докумета '\u001b[0m\u001b[1;33m)\u001b[0m\u001b[1;33m\u001b[0m\u001b[1;33m\u001b[0m\u001b[0m\n\u001b[0;32m     13\u001b[0m         \u001b[0mdel_from_docs\u001b[0m\u001b[1;33m(\u001b[0m\u001b[0mnum_doc\u001b[0m\u001b[1;33m)\u001b[0m\u001b[1;33m\u001b[0m\u001b[1;33m\u001b[0m\u001b[0m\n\u001b[1;32m---> 14\u001b[1;33m         \u001b[0mdel_from_dir\u001b[0m\u001b[1;33m(\u001b[0m\u001b[0mnum_doc\u001b[0m\u001b[1;33m)\u001b[0m\u001b[1;33m\u001b[0m\u001b[1;33m\u001b[0m\u001b[0m\n\u001b[0m\u001b[0;32m     15\u001b[0m     \u001b[1;32melif\u001b[0m \u001b[0mcommand\u001b[0m \u001b[1;33m==\u001b[0m \u001b[1;34m'm'\u001b[0m\u001b[1;33m:\u001b[0m\u001b[1;33m\u001b[0m\u001b[1;33m\u001b[0m\u001b[0m\n\u001b[0;32m     16\u001b[0m         \u001b[0mmove\u001b[0m\u001b[1;33m(\u001b[0m\u001b[1;33m)\u001b[0m\u001b[1;33m\u001b[0m\u001b[1;33m\u001b[0m\u001b[0m\n",
      "\u001b[1;31mNameError\u001b[0m: name 'del_from_dir' is not defined"
     ]
    }
   ],
   "source": [
    "main()"
   ]
  },
  {
   "cell_type": "code",
   "execution_count": null,
   "metadata": {},
   "outputs": [],
   "source": []
  }
 ],
 "metadata": {
  "kernelspec": {
   "display_name": "Python 3",
   "language": "python",
   "name": "python3"
  },
  "language_info": {
   "codemirror_mode": {
    "name": "ipython",
    "version": 3
   },
   "file_extension": ".py",
   "mimetype": "text/x-python",
   "name": "python",
   "nbconvert_exporter": "python",
   "pygments_lexer": "ipython3",
   "version": "3.7.6"
  }
 },
 "nbformat": 4,
 "nbformat_minor": 2
}
