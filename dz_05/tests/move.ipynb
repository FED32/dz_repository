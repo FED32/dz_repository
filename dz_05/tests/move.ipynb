{
 "cells": [
  {
   "cell_type": "code",
   "execution_count": 61,
   "metadata": {},
   "outputs": [],
   "source": [
    "documents = [\n",
    "    {'type': 'passport', 'number': '2207 876234', 'name': 'Василий Гупкин'},\n",
    "    {'type': 'invoice', 'number': '11-2', 'name': 'Геннадий Покемонов'},\n",
    "    {'type': 'insurance', 'number': '10006', 'name': 'Аристарх Павлов'}\n",
    "]"
   ]
  },
  {
   "cell_type": "code",
   "execution_count": 62,
   "metadata": {},
   "outputs": [],
   "source": [
    "directories = {\n",
    "    '1': ['2207 876234', '11-2'],\n",
    "    '2': ['10006'],\n",
    "    '3': []\n",
    "}"
   ]
  },
  {
   "cell_type": "code",
   "execution_count": 63,
   "metadata": {},
   "outputs": [],
   "source": [
    "# m – move – команда, которая спросит номер документа и целевую полку и переместит его с текущей полки на целевую.\n",
    "# Корректно обработайте кейсы, когда пользователь пытается переместить несуществующий документ или\n",
    "# переместить документ на несуществующую полку; \n",
    "\n"
   ]
  },
  {
   "cell_type": "code",
   "execution_count": 64,
   "metadata": {},
   "outputs": [],
   "source": [
    "# поиск номера полки по имени документа\n",
    "def shelf(num_doc):    \n",
    "    find = False # флаг успешного результата поиска\n",
    "    for key, value in directories.items():\n",
    "#         print(key, value)\n",
    "        if num_doc in value:\n",
    "            print('Документ находится на полке',key)\n",
    "            find = True\n",
    "    if find != True:\n",
    "        print('Документ отсутствует')\n",
    "    return find   "
   ]
  },
  {
   "cell_type": "markdown",
   "metadata": {},
   "source": [
    "num_doc = input('Введите номер докумета ')\n",
    "shelf(num_doc)"
   ]
  },
  {
   "cell_type": "code",
   "execution_count": 65,
   "metadata": {},
   "outputs": [],
   "source": [
    "# удаляет документ из перечня полок\n",
    "def del_from_dir(num_doc):\n",
    "    find = False\n",
    "    for val in directories.values():\n",
    "#         print(val)\n",
    "        if num_doc in val:\n",
    "            find = True\n",
    "#             print(val)\n",
    "            for pos in val:\n",
    "                if pos == num_doc:\n",
    "                    val.remove(pos)\n",
    "                    print(f\"Документ {num_doc} удален из перечня полок\" )\n",
    "    if find != True:\n",
    "        print('Документ отсутствует')\n",
    "        \n",
    "    return"
   ]
  },
  {
   "cell_type": "code",
   "execution_count": 60,
   "metadata": {},
   "outputs": [
    {
     "ename": "SyntaxError",
     "evalue": "can't assign to function call (<ipython-input-60-416ae18be76b>, line 6)",
     "output_type": "error",
     "traceback": [
      "\u001b[1;36m  File \u001b[1;32m\"<ipython-input-60-416ae18be76b>\"\u001b[1;36m, line \u001b[1;32m6\u001b[0m\n\u001b[1;33m    directories[num_shelf].append() = num_doc\u001b[0m\n\u001b[1;37m    ^\u001b[0m\n\u001b[1;31mSyntaxError\u001b[0m\u001b[1;31m:\u001b[0m can't assign to function call\n"
     ]
    }
   ],
   "source": [
    "# перемещает указанный документ на указанную полку\n",
    "# ОШИБКА, ДОРАБОТАТЬ!!!!!!!!!! нет проверки на существующий документ, затирает полку при перемещениии\n",
    "def move(num_doc, num_shelf):\n",
    "    if shelf(num_doc) == True:\n",
    "        if num_shelf in directories.keys():\n",
    "#             directories[num_shelf].append(num_doc)\n",
    "            \n",
    "            del_from_dir(num_doc)\n",
    "            print(f'Документ {num_doc} помещен на полку {num_shelf}')\n",
    "        else:\n",
    "            print('Такой полки не существует')\n",
    "    return   "
   ]
  },
  {
   "cell_type": "code",
   "execution_count": 53,
   "metadata": {},
   "outputs": [
    {
     "name": "stdout",
     "output_type": "stream",
     "text": [
      "Введите номер докумета 565\n",
      "Введите номер целевой полки 1\n",
      "Документ отсутствует\n"
     ]
    }
   ],
   "source": [
    "num_doc = input('Введите номер докумета ')\n",
    "num_shelf = input('Введите номер целевой полки ')\n",
    "move(num_doc, num_shelf)"
   ]
  },
  {
   "cell_type": "code",
   "execution_count": 54,
   "metadata": {},
   "outputs": [
    {
     "name": "stdout",
     "output_type": "stream",
     "text": [
      "{'1': ['2207 876234', '11-2'], '2': ['10006'], '3': []}\n"
     ]
    }
   ],
   "source": [
    "print(directories)"
   ]
  },
  {
   "cell_type": "code",
   "execution_count": null,
   "metadata": {},
   "outputs": [],
   "source": []
  },
  {
   "cell_type": "code",
   "execution_count": null,
   "metadata": {},
   "outputs": [],
   "source": []
  }
 ],
 "metadata": {
  "kernelspec": {
   "display_name": "Python 3",
   "language": "python",
   "name": "python3"
  },
  "language_info": {
   "codemirror_mode": {
    "name": "ipython",
    "version": 3
   },
   "file_extension": ".py",
   "mimetype": "text/x-python",
   "name": "python",
   "nbconvert_exporter": "python",
   "pygments_lexer": "ipython3",
   "version": "3.7.6"
  }
 },
 "nbformat": 4,
 "nbformat_minor": 4
}
