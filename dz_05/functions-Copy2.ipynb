{
 "cells": [
  {
   "cell_type": "markdown",
   "metadata": {},
   "source": [
    "Вы работаете секретарем и вам постоянно приходят различные документы. Вы должны быть очень внимательны, чтобы не потерять ни один документ. Каталог документов хранится в следующем виде:"
   ]
  },
  {
   "cell_type": "code",
   "execution_count": 1,
   "metadata": {},
   "outputs": [],
   "source": [
    "documents = [\n",
    "    {'type': 'passport', 'number': '2207 876234', 'name': 'Василий Гупкин'},\n",
    "    {'type': 'invoice', 'number': '11-2', 'name': 'Геннадий Покемонов'},\n",
    "    {'type': 'insurance', 'number': '10006', 'name': 'Аристарх Павлов'}\n",
    "]"
   ]
  },
  {
   "cell_type": "markdown",
   "metadata": {},
   "source": [
    "Перечень полок, на которых находятся документы хранится в следующем виде:"
   ]
  },
  {
   "cell_type": "code",
   "execution_count": 2,
   "metadata": {},
   "outputs": [],
   "source": [
    "directories = {\n",
    "    '1': ['2207 876234', '11-2'],\n",
    "    '2': ['10006'],\n",
    "    '3': []\n",
    "}"
   ]
  },
  {
   "cell_type": "markdown",
   "metadata": {},
   "source": [
    "Необходимо реализовать пользовательские команды (внимание! это не название функций, которые должны быть выразительными, а команды, которые вводит пользователь, чтобы получить необходимый результат):\n",
    "  \n",
    "- p – people – команда, которая спросит номер документа и выведет имя человека, которому он принадлежит;  \n",
    "- s – shelf – команда, которая спросит номер документа и выведет номер полки, на которой он находится  \n",
    "*Правильно обработайте ситуации, когда пользователь будет вводить несуществующий документ*.\n",
    "- l – list – команда, которая выведет список всех документов в формате   \n",
    "**passport \"2207 876234\" \"Василий Гупкин\"**  \n",
    "- as – add shelf – команда, которая спросит номер новой полки и добавит ее в перечень. *Предусмотрите случай, когда пользователь добавляет полку, которая уже существует*.\n",
    "- d – delete – команда, которая спросит номер документа и удалит его из каталога и из перечня полок. *Предусмотрите сценарий, когда пользователь вводит несуществующий документ*;  \n",
    "- m – move – команда, которая спросит номер документа и целевую полку и переместит его с текущей полки на целевую. *Корректно обработайте кейсы, когда пользователь пытается переместить несуществующий документ или переместить документ на несуществующую полку*;  \n",
    "- a – add – команда, которая добавит новый документ в каталог и в перечень полок, спросив его номер, тип, имя владельца и номер полки, на котором он будет храниться. *Корректно обработайте ситуацию, когда пользователь будет пытаться добавить документ на несуществующую полку*."
   ]
  },
  {
   "cell_type": "code",
   "execution_count": 3,
   "metadata": {},
   "outputs": [],
   "source": [
    "# поиск документа в каталоге по номеру\n",
    "def doc_in_docs(num_doc):\n",
    "    for pos in documents:\n",
    "        if (pos['number']) == num_doc:\n",
    "            return True"
   ]
  },
  {
   "cell_type": "code",
   "execution_count": 4,
   "metadata": {},
   "outputs": [],
   "source": [
    "# поиск документа на полках по номеру\n",
    "def doc_in_dirs(num_doc):\n",
    "    for key, value in directories.items():\n",
    "        if num_doc in value:\n",
    "            return True "
   ]
  },
  {
   "cell_type": "code",
   "execution_count": 5,
   "metadata": {},
   "outputs": [],
   "source": [
    "# поиск полки по номеру в перечне полок\n",
    "def shelf_in_dirs(num_shelf):\n",
    "    if num_shelf in directories:\n",
    "        return True\n",
    "    else:\n",
    "        return False"
   ]
  },
  {
   "cell_type": "code",
   "execution_count": 6,
   "metadata": {},
   "outputs": [],
   "source": [
    "# поиск имени человека по номеру документа\n",
    "def name_find(num_doc):    \n",
    "    for pos in documents:\n",
    "        if (pos['number']) == num_doc:\n",
    "            x = (pos['name'])\n",
    "            return x"
   ]
  },
  {
   "cell_type": "code",
   "execution_count": 7,
   "metadata": {},
   "outputs": [],
   "source": [
    "# поиск номера полки на которой лежит документ по номеру документа\n",
    "def shelf(num_doc):    \n",
    "    for key, value in directories.items():\n",
    "        if num_doc in value:\n",
    "            return key"
   ]
  },
  {
   "cell_type": "code",
   "execution_count": 8,
   "metadata": {},
   "outputs": [],
   "source": [
    "# вывод списка документов из каталога\n",
    "def registr():\n",
    "    for pos in documents:\n",
    "         print(f\"\"\"{pos['type']} \"{pos['number']}\" \"{pos['name']}\" \"\"\")\n",
    "    return"
   ]
  },
  {
   "cell_type": "code",
   "execution_count": 9,
   "metadata": {},
   "outputs": [],
   "source": [
    "# добавление новой полки в перечень полок\n",
    "def add_shelf(num_shelf):    \n",
    "    if num_shelf not in directories:\n",
    "        directories[num_shelf] = []\n",
    "        print(f\"Полка {num_shelf} добавлена\")\n",
    "        return"
   ]
  },
  {
   "cell_type": "code",
   "execution_count": 10,
   "metadata": {},
   "outputs": [],
   "source": [
    "# удаление документа из каталога\n",
    "def del_from_docs(num_doc):  \n",
    "    i=0\n",
    "    for pos in documents:\n",
    "        if num_doc in pos.values():\n",
    "            del(documents[i])\n",
    "            return True\n",
    "        i+=1"
   ]
  },
  {
   "cell_type": "code",
   "execution_count": 11,
   "metadata": {},
   "outputs": [],
   "source": [
    "# удаление документа из перечня полок\n",
    "def del_from_dir(num_doc):\n",
    "    for val in directories.values():\n",
    "        if num_doc in val:\n",
    "            for pos in val:\n",
    "                if pos == num_doc:\n",
    "                    val.remove(pos)\n",
    "                    return True"
   ]
  },
  {
   "cell_type": "code",
   "execution_count": 12,
   "metadata": {},
   "outputs": [],
   "source": [
    "# добавление нового документа в каталог\n",
    "def add_into_doc(type_doc, num_doc, owner_name_doc):\n",
    "    documents.append({'type': type_doc, 'number': num_doc, 'name': owner_name_doc})\n",
    "    return True"
   ]
  },
  {
   "cell_type": "code",
   "execution_count": 13,
   "metadata": {},
   "outputs": [],
   "source": [
    "# добавление нового документа в перечень полок\n",
    "def add_into_dir(num_doc, num_shelf):\n",
    "    for key, value in directories.items():\n",
    "        if key==num_shelf:\n",
    "            value.append(num_doc)\n",
    "            return True"
   ]
  },
  {
   "cell_type": "code",
   "execution_count": 14,
   "metadata": {},
   "outputs": [],
   "source": [
    "def main():\n",
    "    '''\n",
    "    Список команд:\n",
    "    p – people\n",
    "    s – shelf\n",
    "    l – list\n",
    "    as – add shelf\n",
    "    d – delete\n",
    "    m – move\n",
    "    a – add\n",
    "    '''\n",
    "    command = str(input('Введите команду '))\n",
    "    if command == 'p': # поиск имени человека по номеру документа\n",
    "        num_doc = input('Введите номер докумета ')\n",
    "        if doc_in_docs(num_doc)==True:\n",
    "            print(name_find(num_doc))\n",
    "        else:\n",
    "            print('Документ отсутствует')        \n",
    "    elif command == 's': # поиск номера полки на которой лежит документ по номеру документа\n",
    "        num_doc = input('Введите номер докумета ')\n",
    "        if doc_in_dirs(num_doc)==True:\n",
    "            print(f\"Документ находится на полке {shelf(num_doc)}\")\n",
    "        else:\n",
    "            print('Документ отсутствует')\n",
    "    elif command == 'l': # вывод списка документов из каталога\n",
    "        registr()\n",
    "    elif command == 'as': # добавление новой полки в перечень полок\n",
    "        num_shelf = input('Введите номер новой полки ')\n",
    "        if shelf_in_dirs(num_shelf)==False:\n",
    "            add_shelf(num_shelf)\n",
    "        else:\n",
    "            print('Полка с таким именем уже существует')           \n",
    "    elif command == 'd': # удаление документа из каталога и перечня полок\n",
    "        num_doc = input('Введите номер докумета ')\n",
    "        if (doc_in_docs(num_doc)==True and doc_in_dirs(num_doc)==True):\n",
    "            if del_from_docs(num_doc) == True:\n",
    "                print(f\"Документ {num_doc} удален из каталога\")\n",
    "            if del_from_dir(num_doc) == True:\n",
    "                print(f\"Документ {num_doc} удален из перечня полок\" )\n",
    "        else:\n",
    "            print('Документ отсутствует')\n",
    "    elif command == 'm': # перемещение документа с текущей полки на целевую\n",
    "        num_doc = input('Введите номер документа ')\n",
    "        num_shelf = input('Введите номер целевой полки ')\n",
    "        if doc_in_dirs(num_doc)==True:\n",
    "            if shelf_in_dirs(num_shelf)==True:\n",
    "                if (del_from_dir(num_doc)==True) and (add_into_dir(num_doc, num_shelf)==True):\n",
    "                    print(f\"Документ {num_doc} перемещен на полку {num_shelf}\")               \n",
    "            else:\n",
    "                print(f\"Полки {num_shelf} не существует, операция прервана\")\n",
    "        else:\n",
    "            print(f\"Документа {num_doc} не существует, операция прервана\")      \n",
    "    elif command == 'a': # добавление нового документа в каталог и в перечень полок       \n",
    "        num_doc = input('Введите номер нового документа ')\n",
    "        type_doc = input('Введите тип нового документа ')\n",
    "        owner_name_doc = input('Введите имя владельца нового документа ')\n",
    "        num_shelf = input('Введите номер полки ')\n",
    "        if shelf_in_dirs(num_shelf)==True:\n",
    "            if add_into_doc(type_doc, num_doc, owner_name_doc)==True:\n",
    "                print(f\"Документ {num_doc} добавлен в каталог\")\n",
    "            if add_into_dir(num_doc, num_shelf)==True:\n",
    "                      print(f\"Документ {num_doc} добавлен на полку {num_shelf}\")\n",
    "        else:\n",
    "            print(f\"Полки {num_shelf} не существует, операция отменена\")\n",
    "    elif command == 'help': \n",
    "        help(main)\n",
    "    else:\n",
    "        print('Введите корректную команду, для справки наберите help')\n",
    "    return"
   ]
  },
  {
   "cell_type": "code",
   "execution_count": 15,
   "metadata": {},
   "outputs": [
    {
     "name": "stdout",
     "output_type": "stream",
     "text": [
      "Введите команду help\n",
      "Help on function main in module __main__:\n",
      "\n",
      "main()\n",
      "    Список команд:\n",
      "    p – people\n",
      "    s – shelf\n",
      "    l – list\n",
      "    as – add shelf\n",
      "    d – delete\n",
      "    m – move\n",
      "    a – add\n",
      "\n"
     ]
    }
   ],
   "source": [
    "main()"
   ]
  },
  {
   "cell_type": "code",
   "execution_count": 69,
   "metadata": {},
   "outputs": [
    {
     "name": "stdout",
     "output_type": "stream",
     "text": [
      "[{'type': 'passport', 'number': '2207 876234', 'name': 'Василий Гупкин'}, {'type': 'invoice', 'number': '11-2', 'name': 'Геннадий Покемонов'}, {'type': 'insurance', 'number': '10006', 'name': 'Аристарх Павлов'}]\n",
      "{'1': ['2207 876234', '11-2'], '2': ['10006'], '3': []}\n"
     ]
    }
   ],
   "source": [
    "print(documents)\n",
    "print(directories)"
   ]
  },
  {
   "cell_type": "code",
   "execution_count": null,
   "metadata": {},
   "outputs": [],
   "source": []
  }
 ],
 "metadata": {
  "kernelspec": {
   "display_name": "Python 3",
   "language": "python",
   "name": "python3"
  },
  "language_info": {
   "codemirror_mode": {
    "name": "ipython",
    "version": 3
   },
   "file_extension": ".py",
   "mimetype": "text/x-python",
   "name": "python",
   "nbconvert_exporter": "python",
   "pygments_lexer": "ipython3",
   "version": "3.7.6"
  }
 },
 "nbformat": 4,
 "nbformat_minor": 2
}
