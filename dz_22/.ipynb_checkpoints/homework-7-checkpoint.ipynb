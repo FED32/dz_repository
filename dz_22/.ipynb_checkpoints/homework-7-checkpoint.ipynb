{
 "cells": [
  {
   "cell_type": "markdown",
   "metadata": {},
   "source": [
    "# Домашняя работа №7."
   ]
  },
  {
   "cell_type": "markdown",
   "metadata": {},
   "source": [
    "* Написать модель Random Forest на датасет больных сердечными болезнями (можно почистить от выбросов)."
   ]
  },
  {
   "cell_type": "code",
   "execution_count": 73,
   "metadata": {},
   "outputs": [],
   "source": [
    "import pandas as pd"
   ]
  },
  {
   "cell_type": "code",
   "execution_count": 74,
   "metadata": {},
   "outputs": [
    {
     "data": {
      "text/html": [
       "<div>\n",
       "<style scoped>\n",
       "    .dataframe tbody tr th:only-of-type {\n",
       "        vertical-align: middle;\n",
       "    }\n",
       "\n",
       "    .dataframe tbody tr th {\n",
       "        vertical-align: top;\n",
       "    }\n",
       "\n",
       "    .dataframe thead th {\n",
       "        text-align: right;\n",
       "    }\n",
       "</style>\n",
       "<table border=\"1\" class=\"dataframe\">\n",
       "  <thead>\n",
       "    <tr style=\"text-align: right;\">\n",
       "      <th></th>\n",
       "      <th>id</th>\n",
       "      <th>age</th>\n",
       "      <th>gender</th>\n",
       "      <th>height</th>\n",
       "      <th>weight</th>\n",
       "      <th>ap_hi</th>\n",
       "      <th>ap_lo</th>\n",
       "      <th>cholesterol</th>\n",
       "      <th>gluc</th>\n",
       "      <th>smoke</th>\n",
       "      <th>alco</th>\n",
       "      <th>active</th>\n",
       "      <th>cardio</th>\n",
       "    </tr>\n",
       "  </thead>\n",
       "  <tbody>\n",
       "    <tr>\n",
       "      <th>69995</th>\n",
       "      <td>99993</td>\n",
       "      <td>19240</td>\n",
       "      <td>2</td>\n",
       "      <td>168</td>\n",
       "      <td>76.0</td>\n",
       "      <td>120</td>\n",
       "      <td>80</td>\n",
       "      <td>1</td>\n",
       "      <td>1</td>\n",
       "      <td>1</td>\n",
       "      <td>0</td>\n",
       "      <td>1</td>\n",
       "      <td>0</td>\n",
       "    </tr>\n",
       "    <tr>\n",
       "      <th>69996</th>\n",
       "      <td>99995</td>\n",
       "      <td>22601</td>\n",
       "      <td>1</td>\n",
       "      <td>158</td>\n",
       "      <td>126.0</td>\n",
       "      <td>140</td>\n",
       "      <td>90</td>\n",
       "      <td>2</td>\n",
       "      <td>2</td>\n",
       "      <td>0</td>\n",
       "      <td>0</td>\n",
       "      <td>1</td>\n",
       "      <td>1</td>\n",
       "    </tr>\n",
       "    <tr>\n",
       "      <th>69997</th>\n",
       "      <td>99996</td>\n",
       "      <td>19066</td>\n",
       "      <td>2</td>\n",
       "      <td>183</td>\n",
       "      <td>105.0</td>\n",
       "      <td>180</td>\n",
       "      <td>90</td>\n",
       "      <td>3</td>\n",
       "      <td>1</td>\n",
       "      <td>0</td>\n",
       "      <td>1</td>\n",
       "      <td>0</td>\n",
       "      <td>1</td>\n",
       "    </tr>\n",
       "    <tr>\n",
       "      <th>69998</th>\n",
       "      <td>99998</td>\n",
       "      <td>22431</td>\n",
       "      <td>1</td>\n",
       "      <td>163</td>\n",
       "      <td>72.0</td>\n",
       "      <td>135</td>\n",
       "      <td>80</td>\n",
       "      <td>1</td>\n",
       "      <td>2</td>\n",
       "      <td>0</td>\n",
       "      <td>0</td>\n",
       "      <td>0</td>\n",
       "      <td>1</td>\n",
       "    </tr>\n",
       "    <tr>\n",
       "      <th>69999</th>\n",
       "      <td>99999</td>\n",
       "      <td>20540</td>\n",
       "      <td>1</td>\n",
       "      <td>170</td>\n",
       "      <td>72.0</td>\n",
       "      <td>120</td>\n",
       "      <td>80</td>\n",
       "      <td>2</td>\n",
       "      <td>1</td>\n",
       "      <td>0</td>\n",
       "      <td>0</td>\n",
       "      <td>1</td>\n",
       "      <td>0</td>\n",
       "    </tr>\n",
       "  </tbody>\n",
       "</table>\n",
       "</div>"
      ],
      "text/plain": [
       "          id    age  gender  height  weight  ap_hi  ap_lo  cholesterol  gluc  \\\n",
       "69995  99993  19240       2     168    76.0    120     80            1     1   \n",
       "69996  99995  22601       1     158   126.0    140     90            2     2   \n",
       "69997  99996  19066       2     183   105.0    180     90            3     1   \n",
       "69998  99998  22431       1     163    72.0    135     80            1     2   \n",
       "69999  99999  20540       1     170    72.0    120     80            2     1   \n",
       "\n",
       "       smoke  alco  active  cardio  \n",
       "69995      1     0       1       0  \n",
       "69996      0     0       1       1  \n",
       "69997      0     1       0       1  \n",
       "69998      0     0       0       1  \n",
       "69999      0     0       1       0  "
      ]
     },
     "execution_count": 74,
     "metadata": {},
     "output_type": "execute_result"
    }
   ],
   "source": [
    "url = \"http://yustiks.ru/dataset/cardio_train.csv\"\n",
    "data = pd.read_csv(url,sep=\";\")\n",
    "data.tail()"
   ]
  },
  {
   "cell_type": "markdown",
   "metadata": {},
   "source": [
    "Данный датасет разобран в начале лекции 5. "
   ]
  },
  {
   "cell_type": "code",
   "execution_count": 75,
   "metadata": {},
   "outputs": [],
   "source": [
    "import matplotlib.pyplot as plt"
   ]
  },
  {
   "cell_type": "code",
   "execution_count": 76,
   "metadata": {},
   "outputs": [],
   "source": [
    "# data.boxplot(figsize=(15,6), rot=90)"
   ]
  },
  {
   "cell_type": "code",
   "execution_count": 77,
   "metadata": {},
   "outputs": [],
   "source": [
    "# data.hist(figsize=(15,15))\n",
    "# plt.show()"
   ]
  },
  {
   "cell_type": "code",
   "execution_count": 78,
   "metadata": {},
   "outputs": [],
   "source": [
    "import seaborn as sns"
   ]
  },
  {
   "cell_type": "code",
   "execution_count": 79,
   "metadata": {},
   "outputs": [
    {
     "data": {
      "image/png": "[encoded data removed]",
      "text/plain": [
       "<Figure size 864x864 with 2 Axes>"
      ]
     },
     "metadata": {
      "needs_background": "light"
     },
     "output_type": "display_data"
    }
   ],
   "source": [
    "sns.heatmap(data.corr(),annot=True,cmap='RdYlGn',linewidths=0.2, xticklabels=1, yticklabels=1)\n",
    "# gcf() - получение текущей фигуры\n",
    "fig=plt.gcf()\n",
    "# set_size_inches() - установить размер фигуры\n",
    "fig.set_size_inches(12,12)\n",
    "plt.show()"
   ]
  },
  {
   "cell_type": "code",
   "execution_count": 80,
   "metadata": {},
   "outputs": [],
   "source": [
    "from sklearn.ensemble import RandomForestClassifier"
   ]
  },
  {
   "cell_type": "code",
   "execution_count": 81,
   "metadata": {},
   "outputs": [],
   "source": [
    "# data.iloc[:,1:12]"
   ]
  },
  {
   "cell_type": "code",
   "execution_count": 82,
   "metadata": {},
   "outputs": [],
   "source": [
    "output_y = data.cardio\n",
    "input_x = data.iloc[:,1:12]"
   ]
  },
  {
   "cell_type": "code",
   "execution_count": 83,
   "metadata": {},
   "outputs": [
    {
     "name": "stdout",
     "output_type": "stream",
     "text": [
      "0    35021\n",
      "1    34979\n",
      "Name: cardio, dtype: int64\n"
     ]
    }
   ],
   "source": [
    "from sklearn.preprocessing import LabelEncoder\n",
    "le=LabelEncoder()\n",
    "# targets=(output_y.iloc[:,:]==1).idxmax(1)\n",
    "targets=(output_y)\n",
    "print(targets.value_counts())\n",
    "Y=le.fit_transform(targets)"
   ]
  },
  {
   "cell_type": "code",
   "execution_count": 84,
   "metadata": {},
   "outputs": [],
   "source": [
    "from sklearn.model_selection import train_test_split\n",
    "X_train_22, X_test_22, y_train_22, y_test_22 = train_test_split(input_x, Y, test_size=0.3)"
   ]
  },
  {
   "cell_type": "code",
   "execution_count": 85,
   "metadata": {},
   "outputs": [
    {
     "data": {
      "text/plain": [
       "RandomForestClassifier()"
      ]
     },
     "execution_count": 85,
     "metadata": {},
     "output_type": "execute_result"
    }
   ],
   "source": [
    "from sklearn.ensemble import RandomForestClassifier\n",
    "\n",
    "# создаем модель деревья решений\n",
    "# выбираем 100 деревьев в качестве параметра\n",
    "model=RandomForestClassifier(n_estimators=100)\n",
    "\n",
    "# обучаем модель\n",
    "model.fit(X_train_22,y_train_22)"
   ]
  },
  {
   "cell_type": "code",
   "execution_count": 86,
   "metadata": {},
   "outputs": [
    {
     "name": "stderr",
     "output_type": "stream",
     "text": [
      "No handles with labels found to put in legend.\n"
     ]
    },
    {
     "data": {
      "image/png": "[encoded data removed]",
      "text/plain": [
       "<Figure size 720x720 with 1 Axes>"
      ]
     },
     "metadata": {
      "needs_background": "light"
     },
     "output_type": "display_data"
    }
   ],
   "source": [
    "headers = list(X_train_22.columns.values)\n",
    "\n",
    "feature_imp = pd.Series(model.feature_importances_,index=headers).sort_values(ascending=False)\n",
    "\n",
    "f, ax = plt.subplots(figsize=(10, 10))\n",
    "sns.barplot(x=feature_imp, y=feature_imp.index)\n",
    "\n",
    "plt.xlabel('Важность атрибутов')\n",
    "plt.ylabel('Атрибуты')\n",
    "plt.title(\"Наиболее важные атрибуты\")\n",
    "plt.legend()\n",
    "plt.show()"
   ]
  },
  {
   "cell_type": "code",
   "execution_count": 87,
   "metadata": {},
   "outputs": [
    {
     "name": "stdout",
     "output_type": "stream",
     "text": [
      "              precision    recall  f1-score   support\n",
      "\n",
      "           0       0.71      0.73      0.72     10536\n",
      "           1       0.72      0.70      0.71     10464\n",
      "\n",
      "    accuracy                           0.72     21000\n",
      "   macro avg       0.72      0.72      0.72     21000\n",
      "weighted avg       0.72      0.72      0.72     21000\n",
      "\n"
     ]
    },
    {
     "data": {
      "text/plain": [
       "0.7151428571428572"
      ]
     },
     "execution_count": 87,
     "metadata": {},
     "output_type": "execute_result"
    }
   ],
   "source": [
    "from sklearn.metrics import classification_report\n",
    "model_pred = model.predict(X_test_22)\n",
    "\n",
    "print(classification_report(y_test_22, model_pred))\n",
    "\n",
    "model.score(X_test_22, y_test_22)"
   ]
  },
  {
   "cell_type": "code",
   "execution_count": null,
   "metadata": {},
   "outputs": [],
   "source": []
  },
  {
   "cell_type": "markdown",
   "metadata": {},
   "source": [
    "Модель Random Forest при обучении дает такой метод как feature importance, используя его, можно оценить, какой параметр **максимально** влияет на болезнь."
   ]
  },
  {
   "cell_type": "markdown",
   "metadata": {},
   "source": [
    "* Сделать вывод о том, какой атрибут оказывает значительное влияение на наличие или отсутствие болезни."
   ]
  },
  {
   "cell_type": "code",
   "execution_count": 88,
   "metadata": {},
   "outputs": [],
   "source": [
    "# Максимально на наличие болезни влияет возраст, т.е. болезнь более вероятна с увеличением возраста.\n",
    "# далее после возраста идет верхнее АД, потом вес, болезнь чаще встречается у людей с высоким давлением и избыточным весом"
   ]
  },
  {
   "cell_type": "markdown",
   "metadata": {},
   "source": [
    "Основная задача: определить, что влияет на сердечную болезнь больше всего. Например, выдвигая гипотезу о том, что тот кто курит, болеет чаще, мы сравниваем курящих пациентов с некурящими, и определяя насколько статистически значимы выборки, делаем вывод, что одна выборка статистически отличима от другой (или неотличима).\n",
    "    Выдвигаем гипотезу на самый важный атрибут, полученный из feature_importance (Random_Forest). И оцениваем гипотезу. И делаем вывод."
   ]
  },
  {
   "cell_type": "code",
   "execution_count": null,
   "metadata": {},
   "outputs": [],
   "source": []
  },
  {
   "cell_type": "code",
   "execution_count": 89,
   "metadata": {},
   "outputs": [],
   "source": [
    "# модель Random_Forest для курящих"
   ]
  },
  {
   "cell_type": "code",
   "execution_count": 90,
   "metadata": {},
   "outputs": [],
   "source": [
    "output_y = data[data['smoke']==1].cardio\n",
    "input_x = data[data['smoke']==1].iloc[:,1:12]"
   ]
  },
  {
   "cell_type": "code",
   "execution_count": 91,
   "metadata": {},
   "outputs": [
    {
     "name": "stdout",
     "output_type": "stream",
     "text": [
      "0    3240\n",
      "1    2929\n",
      "Name: cardio, dtype: int64\n"
     ]
    }
   ],
   "source": [
    "le=LabelEncoder()\n",
    "# targets=(output_y.iloc[:,:]==1).idxmax(1)\n",
    "targets=(output_y)\n",
    "print(targets.value_counts())\n",
    "Y=le.fit_transform(targets)"
   ]
  },
  {
   "cell_type": "code",
   "execution_count": 92,
   "metadata": {},
   "outputs": [],
   "source": [
    "X_train_22, X_test_22, y_train_22, y_test_22 = train_test_split(input_x, Y, test_size=0.3)"
   ]
  },
  {
   "cell_type": "code",
   "execution_count": 93,
   "metadata": {},
   "outputs": [
    {
     "data": {
      "text/plain": [
       "RandomForestClassifier()"
      ]
     },
     "execution_count": 93,
     "metadata": {},
     "output_type": "execute_result"
    }
   ],
   "source": [
    "# создаем модель деревья решений\n",
    "# выбираем 100 деревьев в качестве параметра\n",
    "model=RandomForestClassifier(n_estimators=100)\n",
    "\n",
    "# обучаем модель\n",
    "model.fit(X_train_22,y_train_22)"
   ]
  },
  {
   "cell_type": "code",
   "execution_count": 94,
   "metadata": {},
   "outputs": [
    {
     "name": "stderr",
     "output_type": "stream",
     "text": [
      "No handles with labels found to put in legend.\n"
     ]
    },
    {
     "data": {
      "image/png": "[encoded data removed]",
      "text/plain": [
       "<Figure size 720x720 with 1 Axes>"
      ]
     },
     "metadata": {
      "needs_background": "light"
     },
     "output_type": "display_data"
    }
   ],
   "source": [
    "headers = list(X_train_22.columns.values)\n",
    "\n",
    "feature_imp = pd.Series(model.feature_importances_,index=headers).sort_values(ascending=False)\n",
    "\n",
    "f, ax = plt.subplots(figsize=(10, 10))\n",
    "sns.barplot(x=feature_imp, y=feature_imp.index)\n",
    "\n",
    "plt.xlabel('Важность атрибутов')\n",
    "plt.ylabel('Атрибуты')\n",
    "plt.title(\"Наиболее важные атрибуты\")\n",
    "plt.legend()\n",
    "plt.show()"
   ]
  },
  {
   "cell_type": "code",
   "execution_count": 95,
   "metadata": {},
   "outputs": [
    {
     "name": "stdout",
     "output_type": "stream",
     "text": [
      "              precision    recall  f1-score   support\n",
      "\n",
      "           0       0.75      0.78      0.77       978\n",
      "           1       0.75      0.71      0.73       873\n",
      "\n",
      "    accuracy                           0.75      1851\n",
      "   macro avg       0.75      0.75      0.75      1851\n",
      "weighted avg       0.75      0.75      0.75      1851\n",
      "\n"
     ]
    },
    {
     "data": {
      "text/plain": [
       "0.7504051863857374"
      ]
     },
     "execution_count": 95,
     "metadata": {},
     "output_type": "execute_result"
    }
   ],
   "source": [
    "model_pred = model.predict(X_test_22)\n",
    "\n",
    "print(classification_report(y_test_22, model_pred))\n",
    "\n",
    "model.score(X_test_22, y_test_22)"
   ]
  },
  {
   "cell_type": "code",
   "execution_count": 96,
   "metadata": {},
   "outputs": [],
   "source": [
    "# модель Random_Forest для не курящих"
   ]
  },
  {
   "cell_type": "code",
   "execution_count": 97,
   "metadata": {},
   "outputs": [],
   "source": [
    "output_y = data[data['smoke']==0].cardio\n",
    "input_x = data[data['smoke']==0].iloc[:,1:12]"
   ]
  },
  {
   "cell_type": "code",
   "execution_count": 98,
   "metadata": {},
   "outputs": [
    {
     "name": "stdout",
     "output_type": "stream",
     "text": [
      "1    32050\n",
      "0    31781\n",
      "Name: cardio, dtype: int64\n"
     ]
    }
   ],
   "source": [
    "le=LabelEncoder()\n",
    "# targets=(output_y.iloc[:,:]==1).idxmax(1)\n",
    "targets=(output_y)\n",
    "print(targets.value_counts())\n",
    "Y=le.fit_transform(targets)"
   ]
  },
  {
   "cell_type": "code",
   "execution_count": 99,
   "metadata": {},
   "outputs": [],
   "source": [
    "X_train_22, X_test_22, y_train_22, y_test_22 = train_test_split(input_x, Y, test_size=0.3)"
   ]
  },
  {
   "cell_type": "code",
   "execution_count": 100,
   "metadata": {},
   "outputs": [
    {
     "data": {
      "text/plain": [
       "RandomForestClassifier()"
      ]
     },
     "execution_count": 100,
     "metadata": {},
     "output_type": "execute_result"
    }
   ],
   "source": [
    "# создаем модель деревья решений\n",
    "# выбираем 100 деревьев в качестве параметра\n",
    "model=RandomForestClassifier(n_estimators=100)\n",
    "\n",
    "# обучаем модель\n",
    "model.fit(X_train_22,y_train_22)"
   ]
  },
  {
   "cell_type": "code",
   "execution_count": 110,
   "metadata": {},
   "outputs": [
    {
     "name": "stderr",
     "output_type": "stream",
     "text": [
      "No handles with labels found to put in legend.\n"
     ]
    },
    {
     "data": {
      "image/png": "[encoded data removed]",
      "text/plain": [
       "<Figure size 720x720 with 1 Axes>"
      ]
     },
     "metadata": {
      "needs_background": "light"
     },
     "output_type": "display_data"
    }
   ],
   "source": [
    "headers = list(X_train_22.columns.values)\n",
    "\n",
    "feature_imp = pd.Series(model.feature_importances_,index=headers).sort_values(ascending=False)\n",
    "\n",
    "f, ax = plt.subplots(figsize=(10, 10))\n",
    "sns.barplot(x=feature_imp, y=feature_imp.index)\n",
    "\n",
    "plt.xlabel('Важность атрибутов')\n",
    "plt.ylabel('Атрибуты')\n",
    "plt.title(\"Наиболее важные атрибуты\")\n",
    "plt.legend()\n",
    "plt.show()"
   ]
  },
  {
   "cell_type": "code",
   "execution_count": 111,
   "metadata": {},
   "outputs": [
    {
     "name": "stdout",
     "output_type": "stream",
     "text": [
      "              precision    recall  f1-score   support\n",
      "\n",
      "           0       0.71      0.73      0.72      9556\n",
      "           1       0.72      0.70      0.71      9594\n",
      "\n",
      "    accuracy                           0.72     19150\n",
      "   macro avg       0.72      0.72      0.72     19150\n",
      "weighted avg       0.72      0.72      0.72     19150\n",
      "\n"
     ]
    },
    {
     "data": {
      "text/plain": [
       "0.7172845953002611"
      ]
     },
     "execution_count": 111,
     "metadata": {},
     "output_type": "execute_result"
    }
   ],
   "source": [
    "model_pred = model.predict(X_test_22)\n",
    "\n",
    "print(classification_report(y_test_22, model_pred))\n",
    "\n",
    "model.score(X_test_22, y_test_22)"
   ]
  },
  {
   "cell_type": "code",
   "execution_count": 112,
   "metadata": {},
   "outputs": [],
   "source": [
    "# Модель для некурящих похожа на модель всей генеральной совокупности по причине того, \n",
    "# что некурящих в генеральной совокупности в 10 раз больше"
   ]
  },
  {
   "cell_type": "code",
   "execution_count": 113,
   "metadata": {},
   "outputs": [
    {
     "data": {
      "text/plain": [
       "63831"
      ]
     },
     "execution_count": 113,
     "metadata": {},
     "output_type": "execute_result"
    }
   ],
   "source": [
    "len(data[data['smoke']==0])"
   ]
  },
  {
   "cell_type": "code",
   "execution_count": 114,
   "metadata": {},
   "outputs": [
    {
     "data": {
      "text/plain": [
       "6169"
      ]
     },
     "execution_count": 114,
     "metadata": {},
     "output_type": "execute_result"
    }
   ],
   "source": [
    "len(data[data['smoke']==1])"
   ]
  },
  {
   "cell_type": "code",
   "execution_count": 115,
   "metadata": {},
   "outputs": [],
   "source": [
    "# pip install researchpy"
   ]
  },
  {
   "cell_type": "code",
   "execution_count": 116,
   "metadata": {},
   "outputs": [
    {
     "name": "stdout",
     "output_type": "stream",
     "text": [
      "\n",
      "\n"
     ]
    },
    {
     "data": {
      "text/html": [
       "<div>\n",
       "<style scoped>\n",
       "    .dataframe tbody tr th:only-of-type {\n",
       "        vertical-align: middle;\n",
       "    }\n",
       "\n",
       "    .dataframe tbody tr th {\n",
       "        vertical-align: top;\n",
       "    }\n",
       "\n",
       "    .dataframe thead th {\n",
       "        text-align: right;\n",
       "    }\n",
       "</style>\n",
       "<table border=\"1\" class=\"dataframe\">\n",
       "  <thead>\n",
       "    <tr style=\"text-align: right;\">\n",
       "      <th></th>\n",
       "      <th>N</th>\n",
       "      <th>Mean</th>\n",
       "      <th>SD</th>\n",
       "      <th>SE</th>\n",
       "      <th>95% Conf.</th>\n",
       "      <th>Interval</th>\n",
       "    </tr>\n",
       "    <tr>\n",
       "      <th>cardio</th>\n",
       "      <th></th>\n",
       "      <th></th>\n",
       "      <th></th>\n",
       "      <th></th>\n",
       "      <th></th>\n",
       "      <th></th>\n",
       "    </tr>\n",
       "  </thead>\n",
       "  <tbody>\n",
       "    <tr>\n",
       "      <th>0</th>\n",
       "      <td>35021</td>\n",
       "      <td>0.0925</td>\n",
       "      <td>0.2898</td>\n",
       "      <td>0.0015</td>\n",
       "      <td>0.0895</td>\n",
       "      <td>0.0956</td>\n",
       "    </tr>\n",
       "    <tr>\n",
       "      <th>1</th>\n",
       "      <td>34979</td>\n",
       "      <td>0.0837</td>\n",
       "      <td>0.2770</td>\n",
       "      <td>0.0015</td>\n",
       "      <td>0.0808</td>\n",
       "      <td>0.0866</td>\n",
       "    </tr>\n",
       "  </tbody>\n",
       "</table>\n",
       "</div>"
      ],
      "text/plain": [
       "            N    Mean      SD      SE  95% Conf.  Interval\n",
       "cardio                                                    \n",
       "0       35021  0.0925  0.2898  0.0015     0.0895    0.0956\n",
       "1       34979  0.0837  0.2770  0.0015     0.0808    0.0866"
      ]
     },
     "execution_count": 116,
     "metadata": {},
     "output_type": "execute_result"
    }
   ],
   "source": [
    "import researchpy as rp\n",
    "# Showing descriptive statistics from researchpy.summary_cont()\n",
    "rp.summary_cont(data.groupby('cardio')['smoke'])"
   ]
  },
  {
   "cell_type": "code",
   "execution_count": null,
   "metadata": {},
   "outputs": [],
   "source": []
  },
  {
   "cell_type": "code",
   "execution_count": 117,
   "metadata": {},
   "outputs": [
    {
     "name": "stdout",
     "output_type": "stream",
     "text": [
      "   Variable        N      Mean        SD        SE  95% Conf.  Interval\n",
      "0    cardio   6169.0  0.474793  0.499405  0.006358   0.462329  0.487258\n",
      "1    cardio  63831.0  0.502107  0.499999  0.001979   0.498228  0.505986\n",
      "2  combined  70000.0  0.499700  0.500003  0.001890   0.495996  0.503404\n",
      "_______________________________________\n",
      "                Independent t-test     results\n",
      "0  Difference (cardio - cardio) =      -0.0273\n",
      "1            Degrees of freedom =   69998.0000\n",
      "2                             t =      -4.0976\n",
      "3         Two side test p value =       0.0000\n",
      "4        Difference < 0 p value =       0.0000\n",
      "5        Difference > 0 p value =       1.0000\n",
      "6                     Cohen's d =      -0.0546\n",
      "7                     Hedge's g =      -0.0546\n",
      "8                 Glass's delta =      -0.0547\n",
      "9                             r =       0.0155\n"
     ]
    }
   ],
   "source": [
    "descriptives, results = rp.ttest(data[data['smoke']==1].cardio, data[data['smoke']==0].cardio)\n",
    "print(descriptives)\n",
    "print('_______________________________________')\n",
    "print(results)"
   ]
  },
  {
   "cell_type": "code",
   "execution_count": 118,
   "metadata": {},
   "outputs": [],
   "source": [
    "# Two side test p value < 0.05, имеется различие между атрибутами"
   ]
  },
  {
   "cell_type": "code",
   "execution_count": 119,
   "metadata": {},
   "outputs": [
    {
     "name": "stdout",
     "output_type": "stream",
     "text": [
      "   Variable        N      Mean        SD        SE  95% Conf.  Interval\n",
      "0    cardio   6169.0  0.474793  0.499405  0.006358   0.462329  0.487258\n",
      "1    cardio  70000.0  0.499700  0.500003  0.001890   0.495996  0.503404\n",
      "2  combined  76169.0  0.497683  0.499998  0.001812   0.494132  0.501234\n",
      "_______________________________________\n",
      "                Independent t-test     results\n",
      "0  Difference (cardio - cardio) =      -0.0249\n",
      "1            Degrees of freedom =   76167.0000\n",
      "2                             t =      -3.7510\n",
      "3         Two side test p value =       0.0002\n",
      "4        Difference < 0 p value =       0.0001\n",
      "5        Difference > 0 p value =       0.9999\n",
      "6                     Cohen's d =      -0.0498\n",
      "7                     Hedge's g =      -0.0498\n",
      "8                 Glass's delta =      -0.0499\n",
      "9                             r =       0.0136\n"
     ]
    }
   ],
   "source": [
    "descriptives, results = rp.ttest(data[data['smoke']==1].cardio, data.cardio)\n",
    "print(descriptives)\n",
    "print('_______________________________________')\n",
    "print(results)"
   ]
  },
  {
   "cell_type": "code",
   "execution_count": 120,
   "metadata": {},
   "outputs": [],
   "source": [
    "# Two side test p value < 0.05, имеется различие между атрибутами"
   ]
  },
  {
   "cell_type": "code",
   "execution_count": 121,
   "metadata": {},
   "outputs": [
    {
     "name": "stdout",
     "output_type": "stream",
     "text": [
      "   Variable         N      Mean        SD        SE  95% Conf.  Interval\n",
      "0    cardio   63831.0  0.502107  0.499999  0.001979   0.498228  0.505986\n",
      "1    cardio   70000.0  0.499700  0.500003  0.001890   0.495996  0.503404\n",
      "2  combined  133831.0  0.500848  0.500001  0.001367   0.498169  0.503527\n",
      "_______________________________________\n",
      "                Independent t-test      results\n",
      "0  Difference (cardio - cardio) =        0.0024\n",
      "1            Degrees of freedom =   133829.0000\n",
      "2                             t =        0.8797\n",
      "3         Two side test p value =        0.3790\n",
      "4        Difference < 0 p value =        0.8105\n",
      "5        Difference > 0 p value =        0.1895\n",
      "6                     Cohen's d =        0.0048\n",
      "7                     Hedge's g =        0.0048\n",
      "8                 Glass's delta =        0.0048\n",
      "9                             r =        0.0024\n"
     ]
    }
   ],
   "source": [
    "descriptives, results = rp.ttest(data[data['smoke']==0].cardio, data.cardio)\n",
    "print(descriptives)\n",
    "print('_______________________________________')\n",
    "print(results)"
   ]
  },
  {
   "cell_type": "code",
   "execution_count": 122,
   "metadata": {},
   "outputs": [],
   "source": [
    "# Two side test p value > 0.05, различие между атрибутами не установлено из за того,\n",
    "# что некурящих в генеральной совокупности в 10 раз больше"
   ]
  },
  {
   "cell_type": "code",
   "execution_count": 123,
   "metadata": {},
   "outputs": [
    {
     "name": "stdout",
     "output_type": "stream",
     "text": [
      "   Variable         N          Mean           SD         SE     95% Conf.  \\\n",
      "0       age   70000.0  19468.865814  2467.251667   9.325335  19450.588178   \n",
      "1    cardio   70000.0      0.499700     0.500003   0.001890      0.495996   \n",
      "2  combined  140000.0   9734.682757  9889.319511  26.430318   9682.879838   \n",
      "\n",
      "       Interval  \n",
      "0  19487.143451  \n",
      "1      0.503404  \n",
      "2   9786.485677  \n",
      "_______________________________________\n",
      "             Independent t-test      results\n",
      "0  Difference (age - cardio) =    19468.3661\n",
      "1         Degrees of freedom =   139998.0000\n",
      "2                          t =     2087.6855\n",
      "3      Two side test p value =        0.0000\n",
      "4     Difference < 0 p value =        1.0000\n",
      "5     Difference > 0 p value =        0.0000\n",
      "6                  Cohen's d =       11.1591\n",
      "7                  Hedge's g =       11.1591\n",
      "8              Glass's delta =        7.8907\n",
      "9                          r =        0.9843\n"
     ]
    }
   ],
   "source": [
    "descriptives, results = rp.ttest(data.age, data.cardio)\n",
    "print(descriptives)\n",
    "print('_______________________________________')\n",
    "print(results)"
   ]
  },
  {
   "cell_type": "code",
   "execution_count": 124,
   "metadata": {},
   "outputs": [],
   "source": [
    "# Two side test p value < 0.05, имеется различие между атрибутами"
   ]
  },
  {
   "cell_type": "code",
   "execution_count": null,
   "metadata": {},
   "outputs": [],
   "source": []
  },
  {
   "cell_type": "code",
   "execution_count": 125,
   "metadata": {},
   "outputs": [],
   "source": [
    "# сравним заболеваемость людей с весом выше среднего со всей совокупностью"
   ]
  },
  {
   "cell_type": "code",
   "execution_count": 126,
   "metadata": {},
   "outputs": [
    {
     "name": "stdout",
     "output_type": "stream",
     "text": [
      "   Variable         N      Mean        SD        SE  95% Conf.  Interval\n",
      "0    cardio   30303.0  0.587500  0.492292  0.002828   0.581957  0.593043\n",
      "1    cardio   70000.0  0.499700  0.500003  0.001890   0.495996  0.503404\n",
      "2  combined  100303.0  0.526226  0.499314  0.001577   0.523135  0.529316\n",
      "_______________________________________\n",
      "                Independent t-test      results\n",
      "0  Difference (cardio - cardio) =        0.0878\n",
      "1            Degrees of freedom =   100301.0000\n",
      "2                             t =       25.6550\n",
      "3         Two side test p value =        0.0000\n",
      "4        Difference < 0 p value =        1.0000\n",
      "5        Difference > 0 p value =        0.0000\n",
      "6                     Cohen's d =        0.1764\n",
      "7                     Hedge's g =        0.1764\n",
      "8                 Glass's delta =        0.1783\n",
      "9                             r =        0.0807\n"
     ]
    }
   ],
   "source": [
    "descriptives, results = rp.ttest(data[data['weight']>data['weight'].mean()]['cardio'], data['cardio'])\n",
    "print(descriptives)\n",
    "print('_______________________________________')\n",
    "print(results)"
   ]
  },
  {
   "cell_type": "code",
   "execution_count": 127,
   "metadata": {},
   "outputs": [],
   "source": [
    "# Two side test p value < 0.05, имеется различие между атрибутами"
   ]
  },
  {
   "cell_type": "code",
   "execution_count": 128,
   "metadata": {},
   "outputs": [],
   "source": [
    "# сравним заболеваемость людей с весом выше среднего с заболеваемостью людей с весом ниже среднего"
   ]
  },
  {
   "cell_type": "code",
   "execution_count": 129,
   "metadata": {},
   "outputs": [
    {
     "name": "stdout",
     "output_type": "stream",
     "text": [
      "   Variable        N      Mean        SD        SE  95% Conf.  Interval\n",
      "0    cardio  30303.0  0.587500  0.492292  0.002828   0.581957  0.593043\n",
      "1    cardio  39697.0  0.432678  0.495453  0.002487   0.427804  0.437552\n",
      "2  combined  70000.0  0.499700  0.500003  0.001890   0.495996  0.503404\n",
      "_______________________________________\n",
      "                Independent t-test     results\n",
      "0  Difference (cardio - cardio) =       0.1548\n",
      "1            Degrees of freedom =   69998.0000\n",
      "2                             t =      41.0773\n",
      "3         Two side test p value =       0.0000\n",
      "4        Difference < 0 p value =       1.0000\n",
      "5        Difference > 0 p value =       0.0000\n",
      "6                     Cohen's d =       0.3133\n",
      "7                     Hedge's g =       0.3133\n",
      "8                 Glass's delta =       0.3145\n",
      "9                             r =       0.1534\n"
     ]
    }
   ],
   "source": [
    "descriptives, results = rp.ttest(data[data['weight']>data['weight'].mean()]['cardio'], data[data['weight']<data['weight'].mean()]['cardio'])\n",
    "print(descriptives)\n",
    "print('_______________________________________')\n",
    "print(results)"
   ]
  },
  {
   "cell_type": "code",
   "execution_count": 130,
   "metadata": {},
   "outputs": [],
   "source": [
    "# Two side test p value < 0.05, имеется различие между атрибутами"
   ]
  },
  {
   "cell_type": "code",
   "execution_count": 131,
   "metadata": {},
   "outputs": [],
   "source": [
    "# сравним заболеваемость людей сверхним АД выше среднего со всей совокупностью"
   ]
  },
  {
   "cell_type": "code",
   "execution_count": 132,
   "metadata": {},
   "outputs": [
    {
     "data": {
      "text/plain": [
       "128.8172857142857"
      ]
     },
     "execution_count": 132,
     "metadata": {},
     "output_type": "execute_result"
    }
   ],
   "source": [
    "data['ap_hi'].mean()"
   ]
  },
  {
   "cell_type": "code",
   "execution_count": 133,
   "metadata": {},
   "outputs": [
    {
     "name": "stdout",
     "output_type": "stream",
     "text": [
      "   Variable        N      Mean        SD        SE  95% Conf.  Interval\n",
      "0    cardio  28680.0  0.760635  0.426704  0.002520   0.755696  0.765573\n",
      "1    cardio  70000.0  0.499700  0.500003  0.001890   0.495996  0.503404\n",
      "2  combined  98680.0  0.575537  0.494264  0.001573   0.572453  0.578621\n",
      "_______________________________________\n",
      "                Independent t-test     results\n",
      "0  Difference (cardio - cardio) =       0.2609\n",
      "1            Degrees of freedom =   98678.0000\n",
      "2                             t =      77.5613\n",
      "3         Two side test p value =       0.0000\n",
      "4        Difference < 0 p value =       1.0000\n",
      "5        Difference > 0 p value =       0.0000\n",
      "6                     Cohen's d =       0.5438\n",
      "7                     Hedge's g =       0.5438\n",
      "8                 Glass's delta =       0.6115\n",
      "9                             r =       0.2397\n"
     ]
    }
   ],
   "source": [
    "descriptives, results = rp.ttest(data[data['ap_hi']>data['ap_hi'].mean()]['cardio'], data['cardio'])\n",
    "print(descriptives)\n",
    "print('_______________________________________')\n",
    "print(results)"
   ]
  },
  {
   "cell_type": "code",
   "execution_count": 134,
   "metadata": {},
   "outputs": [],
   "source": [
    "# Two side test p value < 0.05, имеется различие между атрибутами"
   ]
  },
  {
   "cell_type": "code",
   "execution_count": 135,
   "metadata": {},
   "outputs": [],
   "source": [
    "# сравним заболеваемость курящих людей с верхним АД выше среднего со всей совокупностью"
   ]
  },
  {
   "cell_type": "code",
   "execution_count": 136,
   "metadata": {},
   "outputs": [],
   "source": [
    "smoke_ap_hi = data.loc[(data['smoke']==1) & (data['ap_hi']>data['ap_hi'].mean())]"
   ]
  },
  {
   "cell_type": "code",
   "execution_count": 137,
   "metadata": {},
   "outputs": [],
   "source": [
    "# smoke_ap_hi"
   ]
  },
  {
   "cell_type": "code",
   "execution_count": 138,
   "metadata": {},
   "outputs": [
    {
     "name": "stdout",
     "output_type": "stream",
     "text": [
      "   Variable        N      Mean        SD        SE  95% Conf.  Interval\n",
      "0    cardio   2841.0  0.729321  0.444389  0.008337   0.712973  0.745669\n",
      "1    cardio  70000.0  0.499700  0.500003  0.001890   0.495996  0.503404\n",
      "2  combined  72841.0  0.508656  0.499929  0.001852   0.505025  0.512286\n",
      "_______________________________________\n",
      "                Independent t-test     results\n",
      "0  Difference (cardio - cardio) =       0.2296\n",
      "1            Degrees of freedom =   72839.0000\n",
      "2                             t =      24.0947\n",
      "3         Two side test p value =       0.0000\n",
      "4        Difference < 0 p value =       1.0000\n",
      "5        Difference > 0 p value =       0.0000\n",
      "6                     Cohen's d =       0.4611\n",
      "7                     Hedge's g =       0.4611\n",
      "8                 Glass's delta =       0.5167\n",
      "9                             r =       0.0889\n"
     ]
    }
   ],
   "source": [
    "descriptives, results = rp.ttest(smoke_ap_hi['cardio'], data['cardio'])\n",
    "print(descriptives)\n",
    "print('_______________________________________')\n",
    "print(results)"
   ]
  },
  {
   "cell_type": "code",
   "execution_count": 139,
   "metadata": {},
   "outputs": [],
   "source": [
    "# Two side test p value < 0.05, имеется различие между атрибутами"
   ]
  },
  {
   "cell_type": "code",
   "execution_count": 140,
   "metadata": {},
   "outputs": [],
   "source": [
    "# сравним заболеваемость людей с верхним АД выше среднего и весом выше среднего со всей совокупностью"
   ]
  },
  {
   "cell_type": "code",
   "execution_count": 141,
   "metadata": {},
   "outputs": [],
   "source": [
    "weight_ap_hi = data.loc[(data['weight']>data['weight'].mean()) & (data['ap_hi']>data['ap_hi'].mean())]"
   ]
  },
  {
   "cell_type": "code",
   "execution_count": 142,
   "metadata": {},
   "outputs": [],
   "source": [
    "# weight_ap_hi"
   ]
  },
  {
   "cell_type": "code",
   "execution_count": 143,
   "metadata": {},
   "outputs": [
    {
     "name": "stdout",
     "output_type": "stream",
     "text": [
      "   Variable        N      Mean        SD        SE  95% Conf.  Interval\n",
      "0    cardio  16188.0  0.771621  0.419801  0.003299   0.765154  0.778088\n",
      "1    cardio  70000.0  0.499700  0.500003  0.001890   0.495996  0.503404\n",
      "2  combined  86188.0  0.550773  0.497418  0.001694   0.547452  0.554094\n",
      "_______________________________________\n",
      "                Independent t-test     results\n",
      "0  Difference (cardio - cardio) =       0.2719\n",
      "1            Degrees of freedom =   86186.0000\n",
      "2                             t =      64.1612\n",
      "3         Two side test p value =       0.0000\n",
      "4        Difference < 0 p value =       1.0000\n",
      "5        Difference > 0 p value =       0.0000\n",
      "6                     Cohen's d =       0.5596\n",
      "7                     Hedge's g =       0.5596\n",
      "8                 Glass's delta =       0.6477\n",
      "9                             r =       0.2135\n"
     ]
    }
   ],
   "source": [
    "descriptives, results = rp.ttest(weight_ap_hi['cardio'], data['cardio'])\n",
    "print(descriptives)\n",
    "print('_______________________________________')\n",
    "print(results)"
   ]
  },
  {
   "cell_type": "code",
   "execution_count": 144,
   "metadata": {},
   "outputs": [],
   "source": [
    "# Two side test p value < 0.05, имеется различие между атрибутами"
   ]
  },
  {
   "cell_type": "code",
   "execution_count": 145,
   "metadata": {},
   "outputs": [],
   "source": [
    "# сравним заболеваемость людей возраста выше среднего с верхним АД выше среднего и весом выше среднего со всей совокупностью"
   ]
  },
  {
   "cell_type": "code",
   "execution_count": 146,
   "metadata": {},
   "outputs": [],
   "source": [
    "age_weight_ap_hi = data.loc[(data['weight']>data['weight'].mean()) & (data['ap_hi']>data['ap_hi'].mean()) & (data['age']>data['age'].mean())]"
   ]
  },
  {
   "cell_type": "code",
   "execution_count": 147,
   "metadata": {},
   "outputs": [],
   "source": [
    "# age_weight_ap_hi"
   ]
  },
  {
   "cell_type": "code",
   "execution_count": 148,
   "metadata": {},
   "outputs": [
    {
     "name": "stdout",
     "output_type": "stream",
     "text": [
      "   Variable        N      Mean        SD        SE  95% Conf.  Interval\n",
      "0    cardio  10361.0  0.775794  0.417079  0.004097   0.767762  0.783826\n",
      "1    cardio  70000.0  0.499700  0.500003  0.001890   0.495996  0.503404\n",
      "2  combined  80361.0  0.535297  0.498756  0.001759   0.531849  0.538745\n",
      "_______________________________________\n",
      "                Independent t-test     results\n",
      "0  Difference (cardio - cardio) =       0.2761\n",
      "1            Degrees of freedom =   80359.0000\n",
      "2                             t =      53.5178\n",
      "3         Two side test p value =       0.0000\n",
      "4        Difference < 0 p value =       1.0000\n",
      "5        Difference > 0 p value =       0.0000\n",
      "6                     Cohen's d =       0.5633\n",
      "7                     Hedge's g =       0.5633\n",
      "8                 Glass's delta =       0.6620\n",
      "9                             r =       0.1855\n"
     ]
    }
   ],
   "source": [
    "descriptives, results = rp.ttest(age_weight_ap_hi['cardio'], data['cardio'])\n",
    "print(descriptives)\n",
    "print('_______________________________________')\n",
    "print(results)"
   ]
  },
  {
   "cell_type": "code",
   "execution_count": 149,
   "metadata": {},
   "outputs": [],
   "source": [
    "# Two side test p value < 0.05, имеется различие между атрибутами"
   ]
  },
  {
   "cell_type": "code",
   "execution_count": null,
   "metadata": {},
   "outputs": [],
   "source": []
  },
  {
   "cell_type": "code",
   "execution_count": null,
   "metadata": {},
   "outputs": [],
   "source": []
  }
 ],
 "metadata": {
  "kernelspec": {
   "display_name": "Python 3",
   "language": "python",
   "name": "python3"
  },
  "language_info": {
   "codemirror_mode": {
    "name": "ipython",
    "version": 3
   },
   "file_extension": ".py",
   "mimetype": "text/x-python",
   "name": "python",
   "nbconvert_exporter": "python",
   "pygments_lexer": "ipython3",
   "version": "3.7.6"
  }
 },
 "nbformat": 4,
 "nbformat_minor": 4
}
